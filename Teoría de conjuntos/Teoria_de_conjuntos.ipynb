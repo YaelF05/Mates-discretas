{
 "cells": [
  {
   "cell_type": "markdown",
   "id": "4a448eae",
   "metadata": {},
   "source": [
    "# Teoría de conjuntos \n",
    "\n",
    "La teoría de conjuntos es un área fundamental de las matemáticas que trata sobre las propiedades y relaciones entre conjuntos, que son colecciones bien definidas de objetos. Python, como un lenguaje de programación versátil, ofrece varias formas de trabajar conjuntos y aplicar conceptos de teoría de conjuntos.\n",
    "\n",
    "## Creación de conjuntos\n",
    "\n",
    "En Python, puedes crear un conjunto utilizando llabes {} o la función set()."
   ]
  },
  {
   "cell_type": "code",
   "execution_count": 1,
   "id": "23209e33",
   "metadata": {},
   "outputs": [],
   "source": [
    "A = {1, 2, 3, 4, 5}"
   ]
  },
  {
   "cell_type": "code",
   "execution_count": 21,
   "id": "31d9ea59",
   "metadata": {},
   "outputs": [],
   "source": [
    "B = {3, 4, 5, 6, 7}"
   ]
  },
  {
   "cell_type": "code",
   "execution_count": 4,
   "id": "4024d34e",
   "metadata": {},
   "outputs": [],
   "source": [
    "C = set([3, 6, 9, 12, 15])"
   ]
  },
  {
   "cell_type": "markdown",
   "id": "b14b7f18",
   "metadata": {},
   "source": [
    "## Listas vs conjuntos "
   ]
  },
  {
   "cell_type": "code",
   "execution_count": 5,
   "id": "cfbcf14a",
   "metadata": {},
   "outputs": [],
   "source": [
    "lista = [1, 2, 3, 4, 5, 1, 2, 3, 4, 5]"
   ]
  },
  {
   "cell_type": "code",
   "execution_count": 6,
   "id": "030bf4e5",
   "metadata": {},
   "outputs": [
    {
     "data": {
      "text/plain": [
       "[1, 2, 3, 4, 5, 1, 2, 3, 4, 5]"
      ]
     },
     "execution_count": 6,
     "metadata": {},
     "output_type": "execute_result"
    }
   ],
   "source": [
    "lista"
   ]
  },
  {
   "cell_type": "code",
   "execution_count": 8,
   "id": "3263b580",
   "metadata": {},
   "outputs": [],
   "source": [
    "conjunto = set(lista)"
   ]
  },
  {
   "cell_type": "code",
   "execution_count": 9,
   "id": "79e41af0",
   "metadata": {},
   "outputs": [
    {
     "data": {
      "text/plain": [
       "{1, 2, 3, 4, 5}"
      ]
     },
     "execution_count": 9,
     "metadata": {},
     "output_type": "execute_result"
    }
   ],
   "source": [
    "conjunto"
   ]
  },
  {
   "cell_type": "markdown",
   "id": "9d7ffd28",
   "metadata": {},
   "source": [
    "## Operaciones \n",
    "\n",
    "Python proporciona operadores y métodos para realizar operaciones básicas de conjuntos como unión, intersección, diferencia y diferencia simétrica."
   ]
  },
  {
   "cell_type": "markdown",
   "id": "63687d92",
   "metadata": {},
   "source": [
    "## Unión \n",
    "\n",
    "La unión de conjuntos es correspondiente la unificación de los elementos de dos conjunbtos o incluso más conjuntos, que pueden partiendo de esto conformar una nueva forma de conjunto, en la cual los elementos dentro de este correspondan a los elementos de los conjuntos originales. Cuando un elemento es repetido, forma parte del conjunto unión una vez sólamente; esto difiere de la unión de conjuntos en la concepción tradicional de la suma, en la cual los elementos comunes se consideran tantas veces como se encuentren en la totalidad de los conjuntos.\n",
    "\n",
    "Formalmente, si A y B son conjuntos, la unión de A y B se define como el conjunto C que contiene todos los elementos que pertenecen a A, a B, o ambos. Mateáticamente, esto se puede expresar como:\n",
    "\n",
    "$$\n",
    "    C = A \\cup B = {x:x \\in A  \\quad o \\quad x \\in B}\n",
    "$$\n",
    "<img src=\"https://encrypted-tbn0.gstatic.com/images?q=tbn:ANd9GcTpFYhpGbCLAVvFy-L3TU52PagajHEGFyjlgvZh0FqoUw&s\" width = 400>\n",
    "<center>\n",
    "\n",
    "En Python, la operación de unión puede realizarse utilizando el operador | o el método union()."
   ]
  },
  {
   "cell_type": "code",
   "execution_count": 10,
   "id": "9f6f2094",
   "metadata": {},
   "outputs": [
    {
     "data": {
      "text/plain": [
       "{1, 2, 3, 4, 5}"
      ]
     },
     "execution_count": 10,
     "metadata": {},
     "output_type": "execute_result"
    }
   ],
   "source": [
    "A | B "
   ]
  },
  {
   "cell_type": "code",
   "execution_count": 11,
   "id": "eb5b2e57",
   "metadata": {},
   "outputs": [
    {
     "data": {
      "text/plain": [
       "{1, 2, 3, 4, 5}"
      ]
     },
     "execution_count": 11,
     "metadata": {},
     "output_type": "execute_result"
    }
   ],
   "source": [
    "A.union(B)"
   ]
  },
  {
   "cell_type": "code",
   "execution_count": 12,
   "id": "b8d83385",
   "metadata": {},
   "outputs": [
    {
     "data": {
      "text/plain": [
       "{1, 2, 3, 4, 5, 6, 9, 12, 15}"
      ]
     },
     "execution_count": 12,
     "metadata": {},
     "output_type": "execute_result"
    }
   ],
   "source": [
    "A | B | C"
   ]
  },
  {
   "cell_type": "code",
   "execution_count": 14,
   "id": "f86eb4ab",
   "metadata": {},
   "outputs": [
    {
     "data": {
      "text/plain": [
       "{1, 2, 3, 4, 5, 6, 9, 12, 15}"
      ]
     },
     "execution_count": 14,
     "metadata": {},
     "output_type": "execute_result"
    }
   ],
   "source": [
    "A | C"
   ]
  },
  {
   "cell_type": "markdown",
   "id": "1c763749",
   "metadata": {},
   "source": [
    "## Intersección\n",
    "\n",
    "La intersección de conjuntos es una operación que devuelve un nuevo conjunto que contiene únicamente los elementos comunes a dos o más conjuntos. Es decir, se seleccionan aquellos elementos que están presentes en todos los conjuntos involucrados en la operación de intersección.\n",
    "\n",
    "Si A y B son conjuntos, la intersección de A y B se define como el conjunto C que contiene solo los elementos que pertenecen a ambos conjuntos A y B.\n",
    "\n",
    "Por ejemplo: dados los conjuntos R = {1,2,3,4} y el conjunto S = {3,4,5,6}, podríamos decir que la intersección seria: S {3,4}\n",
    "\n",
    "$$\n",
    "    C = A \\cap B = {x | x \\in  A  y  x \\in B}\n",
    "$$\n",
    "<img src=\"https://www.conoce3000.com/html/espaniol/Libros/Matematica01/imagenes/Interseccion01.jpg\" width = 400>\n",
    "<center>\n",
    "    \n",
    "En Python, la operación de unión puede realizarse utilizando el operador & ."
   ]
  },
  {
   "cell_type": "code",
   "execution_count": 15,
   "id": "9c57590f",
   "metadata": {},
   "outputs": [
    {
     "data": {
      "text/plain": [
       "{1, 2, 3, 4, 5}"
      ]
     },
     "execution_count": 15,
     "metadata": {},
     "output_type": "execute_result"
    }
   ],
   "source": [
    "A & B "
   ]
  },
  {
   "cell_type": "code",
   "execution_count": 23,
   "id": "ba1b2c08",
   "metadata": {},
   "outputs": [
    {
     "data": {
      "text/plain": [
       "{3, 6}"
      ]
     },
     "execution_count": 23,
     "metadata": {},
     "output_type": "execute_result"
    }
   ],
   "source": [
    "B & C"
   ]
  },
  {
   "cell_type": "code",
   "execution_count": 17,
   "id": "841f96dc",
   "metadata": {},
   "outputs": [
    {
     "data": {
      "text/plain": [
       "{3}"
      ]
     },
     "execution_count": 17,
     "metadata": {},
     "output_type": "execute_result"
    }
   ],
   "source": [
    "A & B & C"
   ]
  },
  {
   "cell_type": "code",
   "execution_count": 18,
   "id": "9c6d142b",
   "metadata": {},
   "outputs": [
    {
     "data": {
      "text/plain": [
       "{3}"
      ]
     },
     "execution_count": 18,
     "metadata": {},
     "output_type": "execute_result"
    }
   ],
   "source": [
    "A & C"
   ]
  },
  {
   "cell_type": "markdown",
   "id": "1ff9e431",
   "metadata": {},
   "source": [
    "## Diferencia \n",
    "\n",
    "Es la operación que nos permite formar un conjunto, en donde de dos conjuntos el conjunto resultante es el que tendrá todos los elementos que pertenecen al primero pero no al segundo. Es decir dados dos conjuntos A y B, la diferencia de los conjuntos entra A y B, estará formado por todos los elementos de A que no pertenezcan a B. El símbolo que se usa para esta operación es el mismo que se usa para la resta o sustracción, que es el siguiente: -.\n",
    "\n",
    "Si A y B son conjuntos, la diferencia de A y B se define como el conjunto C que contiene solo los elementos que pertenecen a A pero no a B.\n",
    "\n",
    "$$\n",
    "    C = A - B = {x | x \\in  A  y  x \\notin B}\n",
    "$$\n",
    "<img src=\"https://www.conoce3000.com/html/espaniol/Libros/Matematica01/imagenes/Diferencia01m.jpg\" width = 400>\n",
    "<center>\n",
    "\n",
    "<img src=\"https://www.conoce3000.com/html/espaniol/Libros/Matematica01/imagenes/Diferencia02m.jpg\" width = 400>\n",
    "<center>\n",
    "    \n",
    "En Python, la operación de unión puede realizarse utilizando el operador -."
   ]
  },
  {
   "cell_type": "code",
   "execution_count": 24,
   "id": "7c1acf46",
   "metadata": {},
   "outputs": [
    {
     "data": {
      "text/plain": [
       "{1, 2}"
      ]
     },
     "execution_count": 24,
     "metadata": {},
     "output_type": "execute_result"
    }
   ],
   "source": [
    "A - B"
   ]
  },
  {
   "cell_type": "code",
   "execution_count": 25,
   "id": "45076048",
   "metadata": {},
   "outputs": [
    {
     "data": {
      "text/plain": [
       "{6, 7}"
      ]
     },
     "execution_count": 25,
     "metadata": {},
     "output_type": "execute_result"
    }
   ],
   "source": [
    "B - A"
   ]
  },
  {
   "cell_type": "code",
   "execution_count": 26,
   "id": "0c0812fc",
   "metadata": {},
   "outputs": [
    {
     "data": {
      "text/plain": [
       "{1, 2}"
      ]
     },
     "execution_count": 26,
     "metadata": {},
     "output_type": "execute_result"
    }
   ],
   "source": [
    "A - B - C"
   ]
  },
  {
   "cell_type": "code",
   "execution_count": 27,
   "id": "01e1254a",
   "metadata": {},
   "outputs": [
    {
     "data": {
      "text/plain": [
       "{9, 12, 15}"
      ]
     },
     "execution_count": 27,
     "metadata": {},
     "output_type": "execute_result"
    }
   ],
   "source": [
    "C - B - A"
   ]
  },
  {
   "cell_type": "code",
   "execution_count": 28,
   "id": "cb953698",
   "metadata": {},
   "outputs": [
    {
     "data": {
      "text/plain": [
       "{7}"
      ]
     },
     "execution_count": 28,
     "metadata": {},
     "output_type": "execute_result"
    }
   ],
   "source": [
    "B - A - C"
   ]
  },
  {
   "cell_type": "code",
   "execution_count": 29,
   "id": "b11d6b2c",
   "metadata": {},
   "outputs": [
    {
     "data": {
      "text/plain": [
       "{9, 12, 15}"
      ]
     },
     "execution_count": 29,
     "metadata": {},
     "output_type": "execute_result"
    }
   ],
   "source": [
    "C - B"
   ]
  },
  {
   "cell_type": "code",
   "execution_count": 30,
   "id": "eca68596",
   "metadata": {},
   "outputs": [
    {
     "data": {
      "text/plain": [
       "{4, 5, 7}"
      ]
     },
     "execution_count": 30,
     "metadata": {},
     "output_type": "execute_result"
    }
   ],
   "source": [
    "B - C"
   ]
  },
  {
   "cell_type": "code",
   "execution_count": 31,
   "id": "df65f2c6",
   "metadata": {},
   "outputs": [
    {
     "data": {
      "text/plain": [
       "{1, 2, 4, 5}"
      ]
     },
     "execution_count": 31,
     "metadata": {},
     "output_type": "execute_result"
    }
   ],
   "source": [
    "A - C"
   ]
  },
  {
   "cell_type": "code",
   "execution_count": 32,
   "id": "34c1c158",
   "metadata": {},
   "outputs": [
    {
     "data": {
      "text/plain": [
       "{6, 9, 12, 15}"
      ]
     },
     "execution_count": 32,
     "metadata": {},
     "output_type": "execute_result"
    }
   ],
   "source": [
    "C - A"
   ]
  },
  {
   "cell_type": "markdown",
   "id": "ccd722c9",
   "metadata": {},
   "source": [
    "## Diferencia simétrica \n",
    "\n"
   ]
  }
 ],
 "metadata": {
  "kernelspec": {
   "display_name": "Python 3 (ipykernel)",
   "language": "python",
   "name": "python3"
  },
  "language_info": {
   "codemirror_mode": {
    "name": "ipython",
    "version": 3
   },
   "file_extension": ".py",
   "mimetype": "text/x-python",
   "name": "python",
   "nbconvert_exporter": "python",
   "pygments_lexer": "ipython3",
   "version": "3.11.4"
  }
 },
 "nbformat": 4,
 "nbformat_minor": 5
}
