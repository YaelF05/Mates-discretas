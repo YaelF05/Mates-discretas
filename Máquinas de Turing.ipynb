{
 "cells": [
  {
   "cell_type": "markdown",
   "id": "52ae328a",
   "metadata": {},
   "source": [
    "![logo](https://i.ytimg.com/vi/Es2NwtUwVc0/maxresdefault.jpg)"
   ]
  },
  {
   "cell_type": "markdown",
   "id": "34933876",
   "metadata": {},
   "source": [
    "## Inicialización"
   ]
  },
  {
   "cell_type": "code",
   "execution_count": null,
   "id": "8c988c03",
   "metadata": {},
   "outputs": [],
   "source": [
    "class maquinaTuring:\n",
    "    global cinta\n",
    "    global transiciones\n",
    "    global estado_act \n",
    "    global posicion"
   ]
  },
  {
   "cell_type": "markdown",
   "id": "5359120d",
   "metadata": {},
   "source": [
    "## Funciones"
   ]
  },
  {
   "cell_type": "code",
   "execution_count": null,
   "id": "e1082557",
   "metadata": {},
   "outputs": [],
   "source": [
    " def computa(self):\n",
    "        while self.estado_act in self.transiciones.keys():\n",
    "            instrucciones = self.transiciones[self.estado_act]\n",
    "            instrucciones = instrucciones[self.cinta[self.posicion]]\n",
    "            self.ejecuta(instrucciones)\n",
    "            if self.posicion >= len(self.cinta) or self.posicion < 0:\n",
    "                print(\"MLE\")  # Memory Limit Exceeded\n",
    "                break"
   ]
  },
  {
   "cell_type": "markdown",
   "id": "4916c9ec",
   "metadata": {},
   "source": [
    "       Ejecuta la máquina de Turing hasta que no haya más transiciones posibles\n",
    "        o la posición del cabezal se salga de la cinta.\n"
   ]
  },
  {
   "cell_type": "code",
   "execution_count": null,
   "id": "7509f1ab",
   "metadata": {},
   "outputs": [],
   "source": [
    "def ejecuta(self, ins):\n",
    "        self.estado_act = ins[0]\n",
    "        self.cinta[self.posicion] = ins[1]\n",
    "        self.movimiento(ins[2])"
   ]
  },
  {
   "cell_type": "markdown",
   "id": "c56da160",
   "metadata": {},
   "source": [
    "Ejecuta una instrucción dada.\n",
    "        \n",
    "        Args:\n",
    "            ins (list): Lista que contiene el nuevo estado, el valor a escribir \n",
    "                        en la cinta y el movimiento del cabezal."
   ]
  },
  {
   "cell_type": "code",
   "execution_count": null,
   "id": "c3953f43",
   "metadata": {},
   "outputs": [],
   "source": [
    "    def movimiento(self, ins):\n",
    "        if ins == \"R\":\n",
    "            self.posicion += 1\n",
    "        if ins == \"L\":\n",
    "            self.posicion -= 1"
   ]
  },
  {
   "cell_type": "markdown",
   "id": "1a49a319",
   "metadata": {},
   "source": [
    "        Mueve el cabezal de la cinta según la instrucción dada.\n",
    "        \n",
    "        Args:\n",
    "            ins (str): Instrucción de movimiento ('R' para derecha, 'L' para izquierda)."
   ]
  },
  {
   "cell_type": "code",
   "execution_count": null,
   "id": "6ddf516a",
   "metadata": {},
   "outputs": [],
   "source": [
    "    def configCinta(n, cinta, c):\n",
    "        for i in range(n):\n",
    "            cinta[i] = c"
   ]
  },
  {
   "cell_type": "markdown",
   "id": "fc51e2a4",
   "metadata": {},
   "source": [
    "    Configura los primeros n elementos de la cinta con el valor c.\n",
    "    \n",
    "    Args:\n",
    "        n (int): Número de elementos a configurar.\n",
    "        cinta (list): La cinta a configurar.\n",
    "        c (int): El valor con el que configurar los elementos de la cinta."
   ]
  },
  {
   "cell_type": "code",
   "execution_count": null,
   "id": "1b0a25ab",
   "metadata": {},
   "outputs": [],
   "source": [
    "def lee():\n",
    "    contador = 0\n",
    "    diccionario = {}\n",
    "    cinta = []\n",
    "    reglas = int(input(\"Hola dame el numero de reglas: \"))\n",
    "    reglas = int(reglas/2)\n",
    "    for i in range (0, reglas):\n",
    "        lista = []\n",
    "        print (\"Para el estado \", i)"
   ]
  },
  {
   "cell_type": "markdown",
   "id": "3b4cac71",
   "metadata": {},
   "source": [
    "    Lee la configuración inicial de la máquina de Turing y los casos de prueba \n",
    "    desde la entrada estándar.\n",
    "    \n",
    "    Configura las reglas de transición y los casos de prueba, y ejecuta la \n",
    "    máquina de Turing para cada caso de prueba, comprobando el resultado."
   ]
  },
  {
   "cell_type": "code",
   "execution_count": null,
   "id": "51992612",
   "metadata": {},
   "outputs": [],
   "source": [
    "    for i in range(reglas):\n",
    "        lista = []\n",
    "        print(\"Para el estado \", i)\n",
    "        for j in range(2):\n",
    "            print(\"leyendo... \", j)\n",
    "            lista2 = []\n",
    "            lista2.append(int(input(\"Dame el nuevo estado: \")))\n",
    "            lista2.append(int(input(\"Dame lo que escribira en la cinta: \")))\n",
    "            lista2.append(str(input(\"Dame el movimiento: \")))\n",
    "            lista.append(lista2)\n",
    "        diccionario[i] = lista\n",
    "    \n",
    "    print(diccionario)\n",
    "    \n",
    "    pruebas = int(input(\"Dame el numero de casos prueba: \"))\n",
    "    listPruebas = []\n",
    "    \n",
    "    for x in range(pruebas):\n",
    "        print(\"Para la prueba \", x)\n",
    "        x = int(input(\"Dame el numero de unos de entrada: \"))\n",
    "        y = int(input(\"Dame el numero de unos de salida: \"))\n",
    "        listPruebas.append((x, y))\n",
    "        print(listPruebas)\n",
    "    \n",
    "    for x in range(1000):\n",
    "        cinta.append(0)\n",
    "    \n",
    "    for p in listPruebas:\n",
    "        contador += 1\n",
    "        configCinta(int(p[0]), cinta, 1)\n",
    "        maquina = maquinaTuring()\n",
    "        maquina.cinta = cinta\n",
    "        maquina.transiciones = diccionario\n",
    "        maquina.estado_act = 0\n",
    "        maquina.posicion = 0\n",
    "        maquina.computa()\n",
    "        \n",
    "        if contador > 10000:\n",
    "            print(\"TLE\")  # Time Limit Exceeded\n",
    "        \n",
    "        print(\"en la prueba:\")\n",
    "        if maquina.cinta.count(1) == p[1]:\n",
    "            print(\"AC\")  # Accepted\n",
    "        else:\n",
    "            print(\"WA\")  # Wrong Answer\n",
    "        \n",
    "        configCinta(1000, cinta, 0)\n",
    "\n",
    "# Llamada a la función principal para iniciar la simulación\n",
    "lee()"
   ]
  }
 ],
 "metadata": {
  "kernelspec": {
   "display_name": "Python 3 (ipykernel)",
   "language": "python",
   "name": "python3"
  },
  "language_info": {
   "codemirror_mode": {
    "name": "ipython",
    "version": 3
   },
   "file_extension": ".py",
   "mimetype": "text/x-python",
   "name": "python",
   "nbconvert_exporter": "python",
   "pygments_lexer": "ipython3",
   "version": "3.11.4"
  }
 },
 "nbformat": 4,
 "nbformat_minor": 5
}
