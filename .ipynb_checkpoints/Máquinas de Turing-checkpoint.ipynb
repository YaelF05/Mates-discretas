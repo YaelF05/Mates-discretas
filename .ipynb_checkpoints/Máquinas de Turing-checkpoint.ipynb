{
 "cells": [
  {
   "cell_type": "markdown",
   "id": "52ae328a",
   "metadata": {},
   "source": [
    "![logo](https://i.ytimg.com/vi/Es2NwtUwVc0/maxresdefault.jpg)"
   ]
  },
  {
   "cell_type": "markdown",
   "id": "34933876",
   "metadata": {},
   "source": [
    "## Inicialización"
   ]
  },
  {
   "cell_type": "code",
   "execution_count": null,
   "id": "8c988c03",
   "metadata": {},
   "outputs": [],
   "source": [
    "class maquinaTuring:\n",
    "    global cinta\n",
    "    global transiciones\n",
    "    global estado_act \n",
    "    global posicion"
   ]
  },
  {
   "cell_type": "markdown",
   "id": "5359120d",
   "metadata": {},
   "source": [
    "## Funciones"
   ]
  },
  {
   "cell_type": "code",
   "execution_count": null,
   "id": "e1082557",
   "metadata": {},
   "outputs": [],
   "source": [
    " def computa(self):\n",
    "        while self.estado_act in self.transiciones.keys():\n",
    "            instrucciones = self.transiciones[self.estado_act]\n",
    "            instrucciones = instrucciones[self.cinta[self.posicion]]\n",
    "            self.ejecuta(instrucciones)\n",
    "            if self.posicion >= len(self.cinta) or self.posicion < 0:\n",
    "                print(\"MLE\")  # Memory Limit Exceeded\n",
    "                break"
   ]
  },
  {
   "cell_type": "markdown",
   "id": "4916c9ec",
   "metadata": {},
   "source": [
    "       Ejecuta la máquina de Turing hasta que no haya más transiciones posibles\n",
    "        o la posición del cabezal se salga de la cinta.\n"
   ]
  },
  {
   "cell_type": "code",
   "execution_count": null,
   "id": "7509f1ab",
   "metadata": {},
   "outputs": [],
   "source": [
    "def ejecuta(self, ins):\n",
    "        self.estado_act = ins[0]\n",
    "        self.cinta[self.posicion] = ins[1]\n",
    "        self.movimiento(ins[2])"
   ]
  },
  {
   "cell_type": "markdown",
   "id": "c56da160",
   "metadata": {},
   "source": [
    "Ejecuta una instrucción dada.\n",
    "        \n",
    "        Args:\n",
    "            ins (list): Lista que contiene el nuevo estado, el valor a escribir \n",
    "                        en la cinta y el movimiento del cabezal."
   ]
  },
  {
   "cell_type": "code",
   "execution_count": null,
   "id": "c3953f43",
   "metadata": {},
   "outputs": [],
   "source": [
    "    def movimiento(self, ins):\n",
    "        if ins == \"R\":\n",
    "            self.posicion += 1\n",
    "        if ins == \"L\":\n",
    "            self.posicion -= 1"
   ]
  },
  {
   "cell_type": "markdown",
   "id": "1a49a319",
   "metadata": {},
   "source": [
    "        Mueve el cabezal de la cinta según la instrucción dada.\n",
    "        \n",
    "        Args:\n",
    "            ins (str): Instrucción de movimiento ('R' para derecha, 'L' para izquierda)."
   ]
  },
  {
   "cell_type": "code",
   "execution_count": null,
   "id": "6ddf516a",
   "metadata": {},
   "outputs": [],
   "source": [
    "    def configCinta(n, cinta, c):\n",
    "        for i in range(n):\n",
    "            cinta[i] = c"
   ]
  },
  {
   "cell_type": "markdown",
   "id": "fc51e2a4",
   "metadata": {},
   "source": [
    "    Configura los primeros n elementos de la cinta con el valor c.\n",
    "    \n",
    "    Args:\n",
    "        n (int): Número de elementos a configurar.\n",
    "        cinta (list): La cinta a configurar.\n",
    "        c (int): El valor con el que configurar los elementos de la cinta."
   ]
  },
  {
   "cell_type": "code",
   "execution_count": null,
   "id": "1b0a25ab",
   "metadata": {},
   "outputs": [],
   "source": [
    "def lee():\n",
    "    contador = 0\n",
    "    diccionario = {}\n",
    "    cinta = []\n",
    "    reglas = int(input(\"Hola dame el numero de reglas: \"))\n",
    "    reglas = int(reglas/2)\n",
    "    for i in range (0, reglas):\n",
    "        lista = []\n",
    "        print (\"Para el estado \", i)"
   ]
  },
  {
   "cell_type": "markdown",
   "id": "3b4cac71",
   "metadata": {},
   "source": [
    "    Lee la configuración inicial de la máquina de Turing y los casos de prueba \n",
    "    desde la entrada estándar.\n",
    "    \n",
    "    Configura las reglas de transición y los casos de prueba, y ejecuta la \n",
    "    máquina de Turing para cada caso de prueba, comprobando el resultado."
   ]
  },
  {
   "cell_type": "markdown",
   "id": "d1454e8a",
   "metadata": {},
   "source": [
    "## "
   ]
  },
  {
   "cell_type": "code",
   "execution_count": null,
   "id": "5c7b8e22",
   "metadata": {},
   "outputs": [],
   "source": [
    "    for i in range(reglas):\n",
    "        lista = []\n",
    "        print(\"Para el estado \", i)\n",
    "        for j in range(2):\n",
    "            print(\"leyendo... \", j)\n",
    "            lista2 = []\n",
    "            lista2.append(int(input(\"Dame el nuevo estado: \")))\n",
    "            lista2.append(int(input(\"Dame lo que escribira en la cinta: \")))\n",
    "            lista2.append(str(input(\"Dame el movimiento: \")))\n",
    "            lista.append(lista2)\n",
    "        diccionario[i] = lista"
   ]
  },
  {
   "cell_type": "markdown",
   "id": "b2d194b5",
   "metadata": {},
   "source": [
    "Este bloque itera sobre el número de reglas, pidiendo al usuario que ingrese las transiciones para cada estado y cada valor posible leído de la cinta (0 o 1). Para cada combinación de estado y valor, se solicita el nuevo estado, el valor a escribir en la cinta y el movimiento del cabezal ('L' o 'R'), almacenando estas reglas en un diccionario llamado diccionario."
   ]
  },
  {
   "cell_type": "code",
   "execution_count": null,
   "id": "5d4242de",
   "metadata": {},
   "outputs": [],
   "source": [
    "    print(diccionario)\n",
    "    \n",
    "    pruebas = int(input(\"Dame el numero de casos prueba: \"))\n",
    "    listPruebas = []\n",
    "    \n",
    "    for x in range(pruebas):\n",
    "        print(\"Para la prueba \", x)\n",
    "        x = int(input(\"Dame el numero de unos de entrada: \"))\n",
    "        y = int(input(\"Dame el numero de unos de salida: \"))\n",
    "        listPruebas.append((x, y))\n",
    "        print(listPruebas)"
   ]
  },
  {
   "cell_type": "markdown",
   "id": "bdeb003f",
   "metadata": {},
   "source": [
    "Imprime el diccionario de reglas de transición y pide al usuario el número de casos de prueba. Para cada caso, solicita el número de unos iniciales en la cinta y el número esperado de unos al finalizar la ejecución. Estos casos se guardan en una lista listPruebas como tuplas (entrada, salida)."
   ]
  },
  {
   "cell_type": "code",
   "execution_count": null,
   "id": "122a18db",
   "metadata": {},
   "outputs": [],
   "source": [
    "    for x in range(1000):\n",
    "        cinta.append(0)"
   ]
  },
  {
   "cell_type": "markdown",
   "id": "d1e2baf6",
   "metadata": {},
   "source": [
    "Inicializa la cinta de la máquina de Turing con 1000 ceros, creando una lista cinta con 1000 elementos, todos establecidos en 0."
   ]
  },
  {
   "cell_type": "code",
   "execution_count": null,
   "id": "51992612",
   "metadata": {},
   "outputs": [],
   "source": [
    "     for p in listPruebas:\n",
    "        contador += 1\n",
    "        configCinta(int(p[0]), cinta, 1)\n",
    "        maquina = maquinaTuring()\n",
    "        maquina.cinta = cinta\n",
    "        maquina.transiciones = diccionario\n",
    "        maquina.estado_act = 0\n",
    "        maquina.posicion = 0\n",
    "        maquina.computa()\n",
    "        \n",
    "        if contador > 10000:\n",
    "            print(\"TLE\")  # Time Limit Exceeded\n",
    "        \n",
    "        print(\"en la prueba:\")\n",
    "        if maquina.cinta.count(1) == p[1]:\n",
    "            print(\"AC\")  # Accepted\n",
    "        else:\n",
    "            print(\"WA\")  # Wrong Answer\n",
    "        \n",
    "        configCinta(1000, cinta, 0)\n",
    "\n",
    "# Llamada a la función principal para iniciar la simulación\n",
    "lee()"
   ]
  },
  {
   "cell_type": "markdown",
   "id": "dbb78e34",
   "metadata": {},
   "source": [
    "Para cada caso de prueba, incrementa un contador y configura la cinta con unos en las posiciones indicadas por el caso. Crea una instancia de la máquina de Turing, asignando los atributos cinta, transiciones, estado_act y posicion, y ejecuta la máquina. Verifica si se ha excedido un límite de tiempo (más de 10,000 ejecuciones), y compara el resultado en la cinta con el esperado, imprimiendo \"AC\" si es correcto o \"WA\" si es incorrecto, luego reinicia la cinta a ceros.\n",
    "\n",
    "Llama a la función lee() para iniciar el proceso de configuración y ejecución de la máquina de Turing, comenzando la simulación completa."
   ]
  },
  {
   "cell_type": "markdown",
   "id": "387f4f2e",
   "metadata": {},
   "source": [
    "## Ejecución del código"
   ]
  },
  {
   "cell_type": "code",
   "execution_count": null,
   "id": "26013886",
   "metadata": {},
   "outputs": [],
   "source": [
    "class maquinaTuring:\n",
    "\tglobal cinta\n",
    "\tglobal transiciones\n",
    "\tglobal estado_act \n",
    "\tglobal posicion\n",
    "\n",
    "\tdef computa(self):\n",
    "\t\twhile self.estado_act in self.transiciones.keys():\n",
    "\t\t\tinstrucciones = self.transiciones[self.estado_act]\n",
    "\t\t\tinstrucciones = instrucciones[self.cinta[self.posicion]]\n",
    "\t\t\tself.ejecuta(instrucciones)\n",
    "\t\t\tif self.posicion >= len(self.cinta) or self.posicion < 0:\n",
    "\t\t\t\tprint (\"MLE\")\n",
    "\t\t\t\tbreak\n",
    "\t\t\t\n",
    "\n",
    "\tdef ejecuta(self, ins):\n",
    "\t\tself.estado_act = ins[0]\n",
    "\t\tself.cinta[self.posicion] = ins[1]\n",
    "\t\tself.movimiento(ins[2])\n",
    "\n",
    "\n",
    "\tdef movimiento(self, ins):\n",
    "\t\tif ins == \"R\" :\n",
    "\t\t\tself.posicion += 1\n",
    "\t\tif ins == \"L\":\n",
    "\t\t\tself.posicion -= 1\n",
    "\n",
    "\n",
    "def configCinta(n, cinta, c):\n",
    "\tfor i in range (0, n):\n",
    "\t\tcinta[i] = c\n",
    "\n",
    "\n",
    "def lee():\n",
    "\tcontador = 0\n",
    "\tdiccionario = {}\n",
    "\tcinta = []\n",
    "\treglas = int(input(\"Hola dame el numero de reglas: \"))\n",
    "\treglas = int(reglas/2)\n",
    "    \n",
    "\tfor i in range (0, reglas):\n",
    "\t\tlista = []\n",
    "\t\tprint (\"Para el estado \", i)        \n",
    "\t\tfor j in range (0,2):\n",
    "\t\t\tprint (\"leyendo... \", j)\n",
    "\t\t\tlista2 = []\n",
    "\t\t\tlista2.append(int(input(\"Dame el nuevo estado: \")))\n",
    "\t\t\tlista2.append(int(input(\"Dame lo que escribira en la cinta: \")))\n",
    "\t\t\tlista2.append(str(input(\"Dame el movimiento: \")))\n",
    "\t\t\tlista.append(lista2)\n",
    "\t\tdiccionario[i] = lista\n",
    "        \n",
    "\tprint (diccionario)\n",
    "    \n",
    "\tpruebas = int(input(\"Dame el numero de casos prueba: \"))\n",
    "\tlistPruebas = []\n",
    "    \n",
    "\tfor x in range (0, pruebas):\n",
    "\t\tprint(\"Para la prueba \", x)\n",
    "\t\tx = int(input(\"Dame el numero de unos de entrada: \"))\n",
    "\t\ty = int(input(\"Dame el numero de unos de salida: \"))\n",
    "\t\tlistPruebas.append((x,y))\n",
    "\t\tprint(listPruebas)\n",
    "        \n",
    "\tfor x in range (1000):\n",
    "\t\tcinta.append(0)\n",
    "        \n",
    "\tfor p in listPruebas:\n",
    "\t\tcontador += 1\n",
    "\t\tconfigCinta(int(p[0]), cinta, 1)\n",
    "\t\tmaquina = maquinaTuring()\n",
    "\t\tmaquina.cinta = cinta\n",
    "\t\tmaquina.transiciones = diccionario\n",
    "\t\tmaquina.estado_act = 0\n",
    "\t\tmaquina.posicion = 0\n",
    "\t\tmaquina.computa()\n",
    "\t\tif contador > 10000:\n",
    "\t\t\tprint(\"TLE\")\n",
    "\t\tprint(\"en la prueba:\")\n",
    "\t\tif maquina.cinta.count(1) == p[1]:\n",
    "\t\t\tprint(\"Accepted\")\n",
    "\t\telse:\n",
    "\t\t\tprint(\"Wrong Answer\")\n",
    "\t\tconfigCinta(int(1000), cinta, 0)\n",
    "\n",
    "lee()"
   ]
  }
 ],
 "metadata": {
  "kernelspec": {
   "display_name": "Python 3 (ipykernel)",
   "language": "python",
   "name": "python3"
  },
  "language_info": {
   "codemirror_mode": {
    "name": "ipython",
    "version": 3
   },
   "file_extension": ".py",
   "mimetype": "text/x-python",
   "name": "python",
   "nbconvert_exporter": "python",
   "pygments_lexer": "ipython3",
   "version": "3.11.4"
  }
 },
 "nbformat": 4,
 "nbformat_minor": 5
}
